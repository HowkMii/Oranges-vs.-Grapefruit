{
  "nbformat": 4,
  "nbformat_minor": 0,
  "metadata": {
    "colab": {
      "name": "Oranges vs. Grapefruit",
      "provenance": [],
      "authorship_tag": "ABX9TyOMB5vD3t/wZ683HgjoxCQj",
      "include_colab_link": true
    },
    "kernelspec": {
      "name": "python3",
      "display_name": "Python 3"
    },
    "language_info": {
      "name": "python"
    }
  },
  "cells": [
    {
      "cell_type": "markdown",
      "metadata": {
        "id": "view-in-github",
        "colab_type": "text"
      },
      "source": [
        "<a href=\"https://colab.research.google.com/github/HowkMii/Oranges-vs.-Grapefruit/blob/main/Oranges_vs_Grapefruit.ipynb\" target=\"_parent\"><img src=\"https://colab.research.google.com/assets/colab-badge.svg\" alt=\"Open In Colab\"/></a>"
      ]
    },
    {
      "cell_type": "code",
      "execution_count": 28,
      "metadata": {
        "colab": {
          "base_uri": "https://localhost:8080/"
        },
        "id": "0i1bSEnuxjiw",
        "outputId": "c75e2d33-4e84-47b8-b955-026e4975fe61"
      },
      "outputs": [
        {
          "output_type": "stream",
          "name": "stdout",
          "text": [
            "Drive already mounted at /content/drive; to attempt to forcibly remount, call drive.mount(\"/content/drive\", force_remount=True).\n"
          ]
        }
      ],
      "source": [
        "from google.colab import drive\n",
        "drive.mount('/content/drive')"
      ]
    },
    {
      "cell_type": "code",
      "source": [
        "cd /content/drive/MyDrive/datasets"
      ],
      "metadata": {
        "colab": {
          "base_uri": "https://localhost:8080/"
        },
        "id": "xdvSdDoqyB6F",
        "outputId": "044ca30c-79d9-48f3-cb7e-e20429432a36"
      },
      "execution_count": 29,
      "outputs": [
        {
          "output_type": "stream",
          "name": "stdout",
          "text": [
            "/content/drive/MyDrive/datasets\n"
          ]
        }
      ]
    },
    {
      "cell_type": "code",
      "source": [
        "ls"
      ],
      "metadata": {
        "colab": {
          "base_uri": "https://localhost:8080/"
        },
        "id": "xjE43IS91Rn8",
        "outputId": "30e0499f-cbd1-4645-c91f-3466f2ebabe5"
      },
      "execution_count": 30,
      "outputs": [
        {
          "output_type": "stream",
          "name": "stdout",
          "text": [
            "citrus.csv\n"
          ]
        }
      ]
    },
    {
      "cell_type": "code",
      "source": [
        "# from __future__ import absolute_import, division, print_function, unicode_literals\n",
        "import numpy as np\n",
        "import pandas as pd\n",
        "import tensorflow as tf\n",
        "from tensorflow.keras import layers\n",
        "from matplotlib import pyplot as plt\n",
        "\n",
        "# The following lines adjust the granularity of reporting.\n",
        "pd.options.display.max_rows = 10\n",
        "pd.options.display.float_format = \"{:.1f}\".format\n",
        "# tf.keras.backend.set_floatx('float32')\n",
        "\n",
        "print(\"Ran the import statements.\")"
      ],
      "metadata": {
        "id": "nSuHji4KyRoo",
        "colab": {
          "base_uri": "https://localhost:8080/"
        },
        "outputId": "22294cab-61ff-4ac8-f20c-72be2a1f2dda"
      },
      "execution_count": 31,
      "outputs": [
        {
          "output_type": "stream",
          "name": "stdout",
          "text": [
            "Ran the import statements.\n"
          ]
        }
      ]
    },
    {
      "cell_type": "code",
      "source": [
        "df = pd.read_csv(\"citrus.csv\")"
      ],
      "metadata": {
        "id": "Xgyq77k5zavB"
      },
      "execution_count": 32,
      "outputs": []
    },
    {
      "cell_type": "code",
      "source": [
        "X = df.drop(['name'], axis = 1)\n",
        "y = df['name']\n",
        "y = y.replace(\"orange\", 0)\n",
        "y = y.replace(\"grapefruit\", 1)"
      ],
      "metadata": {
        "id": "KZwQDOzmoz07"
      },
      "execution_count": 33,
      "outputs": []
    },
    {
      "cell_type": "code",
      "source": [
        "from sklearn.model_selection import train_test_split"
      ],
      "metadata": {
        "id": "LOLpXdjXo0rp"
      },
      "execution_count": 34,
      "outputs": []
    },
    {
      "cell_type": "code",
      "source": [
        "X_train, X_test, y_train, y_test = train_test_split(\n",
        "    X, y, test_size=0.05, random_state=0)"
      ],
      "metadata": {
        "id": "nf6zFvzxo9cT"
      },
      "execution_count": 35,
      "outputs": []
    },
    {
      "cell_type": "code",
      "source": [
        "df_train = pd.concat([X_train,y_train],axis=1)\n",
        "df_test = pd.concat([X_test,y_test],axis=1)"
      ],
      "metadata": {
        "id": "dNsX-jwxpDAV"
      },
      "execution_count": 36,
      "outputs": []
    },
    {
      "cell_type": "code",
      "source": [
        "df_train.head()"
      ],
      "metadata": {
        "colab": {
          "base_uri": "https://localhost:8080/",
          "height": 206
        },
        "id": "DYrMoeMhpZDA",
        "outputId": "ce50c714-b826-4e7a-f5e1-c585683314c3"
      },
      "execution_count": 37,
      "outputs": [
        {
          "output_type": "execute_result",
          "data": {
            "text/plain": [
              "      diameter  weight  red  green  blue  name\n",
              "799        7.2   134.3  152     70    20     0\n",
              "1069       7.5   138.1  163     90     2     0\n",
              "8410      12.1   206.5  155     72    25     1\n",
              "9436      13.0   220.7  161     69    25     1\n",
              "5099       9.1   157.6  154     67     4     1"
            ],
            "text/html": [
              "\n",
              "  <div id=\"df-99548fa6-abd1-4f40-98b5-de99e0815de3\">\n",
              "    <div class=\"colab-df-container\">\n",
              "      <div>\n",
              "<style scoped>\n",
              "    .dataframe tbody tr th:only-of-type {\n",
              "        vertical-align: middle;\n",
              "    }\n",
              "\n",
              "    .dataframe tbody tr th {\n",
              "        vertical-align: top;\n",
              "    }\n",
              "\n",
              "    .dataframe thead th {\n",
              "        text-align: right;\n",
              "    }\n",
              "</style>\n",
              "<table border=\"1\" class=\"dataframe\">\n",
              "  <thead>\n",
              "    <tr style=\"text-align: right;\">\n",
              "      <th></th>\n",
              "      <th>diameter</th>\n",
              "      <th>weight</th>\n",
              "      <th>red</th>\n",
              "      <th>green</th>\n",
              "      <th>blue</th>\n",
              "      <th>name</th>\n",
              "    </tr>\n",
              "  </thead>\n",
              "  <tbody>\n",
              "    <tr>\n",
              "      <th>799</th>\n",
              "      <td>7.2</td>\n",
              "      <td>134.3</td>\n",
              "      <td>152</td>\n",
              "      <td>70</td>\n",
              "      <td>20</td>\n",
              "      <td>0</td>\n",
              "    </tr>\n",
              "    <tr>\n",
              "      <th>1069</th>\n",
              "      <td>7.5</td>\n",
              "      <td>138.1</td>\n",
              "      <td>163</td>\n",
              "      <td>90</td>\n",
              "      <td>2</td>\n",
              "      <td>0</td>\n",
              "    </tr>\n",
              "    <tr>\n",
              "      <th>8410</th>\n",
              "      <td>12.1</td>\n",
              "      <td>206.5</td>\n",
              "      <td>155</td>\n",
              "      <td>72</td>\n",
              "      <td>25</td>\n",
              "      <td>1</td>\n",
              "    </tr>\n",
              "    <tr>\n",
              "      <th>9436</th>\n",
              "      <td>13.0</td>\n",
              "      <td>220.7</td>\n",
              "      <td>161</td>\n",
              "      <td>69</td>\n",
              "      <td>25</td>\n",
              "      <td>1</td>\n",
              "    </tr>\n",
              "    <tr>\n",
              "      <th>5099</th>\n",
              "      <td>9.1</td>\n",
              "      <td>157.6</td>\n",
              "      <td>154</td>\n",
              "      <td>67</td>\n",
              "      <td>4</td>\n",
              "      <td>1</td>\n",
              "    </tr>\n",
              "  </tbody>\n",
              "</table>\n",
              "</div>\n",
              "      <button class=\"colab-df-convert\" onclick=\"convertToInteractive('df-99548fa6-abd1-4f40-98b5-de99e0815de3')\"\n",
              "              title=\"Convert this dataframe to an interactive table.\"\n",
              "              style=\"display:none;\">\n",
              "        \n",
              "  <svg xmlns=\"http://www.w3.org/2000/svg\" height=\"24px\"viewBox=\"0 0 24 24\"\n",
              "       width=\"24px\">\n",
              "    <path d=\"M0 0h24v24H0V0z\" fill=\"none\"/>\n",
              "    <path d=\"M18.56 5.44l.94 2.06.94-2.06 2.06-.94-2.06-.94-.94-2.06-.94 2.06-2.06.94zm-11 1L8.5 8.5l.94-2.06 2.06-.94-2.06-.94L8.5 2.5l-.94 2.06-2.06.94zm10 10l.94 2.06.94-2.06 2.06-.94-2.06-.94-.94-2.06-.94 2.06-2.06.94z\"/><path d=\"M17.41 7.96l-1.37-1.37c-.4-.4-.92-.59-1.43-.59-.52 0-1.04.2-1.43.59L10.3 9.45l-7.72 7.72c-.78.78-.78 2.05 0 2.83L4 21.41c.39.39.9.59 1.41.59.51 0 1.02-.2 1.41-.59l7.78-7.78 2.81-2.81c.8-.78.8-2.07 0-2.86zM5.41 20L4 18.59l7.72-7.72 1.47 1.35L5.41 20z\"/>\n",
              "  </svg>\n",
              "      </button>\n",
              "      \n",
              "  <style>\n",
              "    .colab-df-container {\n",
              "      display:flex;\n",
              "      flex-wrap:wrap;\n",
              "      gap: 12px;\n",
              "    }\n",
              "\n",
              "    .colab-df-convert {\n",
              "      background-color: #E8F0FE;\n",
              "      border: none;\n",
              "      border-radius: 50%;\n",
              "      cursor: pointer;\n",
              "      display: none;\n",
              "      fill: #1967D2;\n",
              "      height: 32px;\n",
              "      padding: 0 0 0 0;\n",
              "      width: 32px;\n",
              "    }\n",
              "\n",
              "    .colab-df-convert:hover {\n",
              "      background-color: #E2EBFA;\n",
              "      box-shadow: 0px 1px 2px rgba(60, 64, 67, 0.3), 0px 1px 3px 1px rgba(60, 64, 67, 0.15);\n",
              "      fill: #174EA6;\n",
              "    }\n",
              "\n",
              "    [theme=dark] .colab-df-convert {\n",
              "      background-color: #3B4455;\n",
              "      fill: #D2E3FC;\n",
              "    }\n",
              "\n",
              "    [theme=dark] .colab-df-convert:hover {\n",
              "      background-color: #434B5C;\n",
              "      box-shadow: 0px 1px 3px 1px rgba(0, 0, 0, 0.15);\n",
              "      filter: drop-shadow(0px 1px 2px rgba(0, 0, 0, 0.3));\n",
              "      fill: #FFFFFF;\n",
              "    }\n",
              "  </style>\n",
              "\n",
              "      <script>\n",
              "        const buttonEl =\n",
              "          document.querySelector('#df-99548fa6-abd1-4f40-98b5-de99e0815de3 button.colab-df-convert');\n",
              "        buttonEl.style.display =\n",
              "          google.colab.kernel.accessAllowed ? 'block' : 'none';\n",
              "\n",
              "        async function convertToInteractive(key) {\n",
              "          const element = document.querySelector('#df-99548fa6-abd1-4f40-98b5-de99e0815de3');\n",
              "          const dataTable =\n",
              "            await google.colab.kernel.invokeFunction('convertToInteractive',\n",
              "                                                     [key], {});\n",
              "          if (!dataTable) return;\n",
              "\n",
              "          const docLinkHtml = 'Like what you see? Visit the ' +\n",
              "            '<a target=\"_blank\" href=https://colab.research.google.com/notebooks/data_table.ipynb>data table notebook</a>'\n",
              "            + ' to learn more about interactive tables.';\n",
              "          element.innerHTML = '';\n",
              "          dataTable['output_type'] = 'display_data';\n",
              "          await google.colab.output.renderOutput(dataTable, element);\n",
              "          const docLink = document.createElement('div');\n",
              "          docLink.innerHTML = docLinkHtml;\n",
              "          element.appendChild(docLink);\n",
              "        }\n",
              "      </script>\n",
              "    </div>\n",
              "  </div>\n",
              "  "
            ]
          },
          "metadata": {},
          "execution_count": 37
        }
      ]
    },
    {
      "cell_type": "code",
      "source": [
        "# shuffle the training set\n",
        "df_train = df_train.reindex(np.random.permutation(df_train.index)) "
      ],
      "metadata": {
        "id": "CKn-flIOpbQD"
      },
      "execution_count": 38,
      "outputs": []
    },
    {
      "cell_type": "code",
      "source": [
        "df_train_mean = df_train.mean()\n",
        "df_train_std = df_train.std()\n",
        "df_train_norm = (df_train - df_train_mean)/df_train_std\n",
        "\n",
        "# Calculate the Z-scores of each column in the test set.\n",
        "df_test_mean = df_test.mean()\n",
        "df_test_std = df_test.std()\n",
        "df_test_norm = (df_test - df_test_mean)/df_test_std\n",
        "\n",
        "print(\"Normalized the values.\")"
      ],
      "metadata": {
        "colab": {
          "base_uri": "https://localhost:8080/"
        },
        "id": "_9KsgSN5wJs3",
        "outputId": "c7695cf6-f43e-4cb3-d397-19eb5c052aaa"
      },
      "execution_count": 39,
      "outputs": [
        {
          "output_type": "stream",
          "name": "stdout",
          "text": [
            "Normalized the values.\n"
          ]
        }
      ]
    },
    {
      "cell_type": "code",
      "source": [
        "# Create an empty list that will eventually hold all created feature columns.\n",
        "feature_columns = []\n",
        "\n",
        "# We scaled all the columns, including latitude and longitude, into their\n",
        "# Z scores. So, instead of picking a resolution in degrees, we're going\n",
        "# to use resolution_in_Zs.  A resolution_in_Zs of 1 corresponds to \n",
        "# a full standard deviation. \n",
        "resolution_in_Zs = 0.3  # 3/10 of a standard deviation.\n",
        "\n",
        "diameter = tf.feature_column.numeric_column(\"diameter\")\n",
        "feature_columns.append(diameter)\n",
        "\n",
        "# Represent population as a floating-point value.\n",
        "weight = tf.feature_column.numeric_column(\"weight\")\n",
        "feature_columns.append(weight)\n",
        "\n",
        "red = tf.feature_column.numeric_column(\"red\")\n",
        "feature_columns.append(red)\n",
        "green = tf.feature_column.numeric_column(\"green\")\n",
        "feature_columns.append(green)\n",
        "blue = tf.feature_column.numeric_column(\"blue\")\n",
        "feature_columns.append(blue)\n",
        "\n",
        "# Convert the list of feature columns into a layer that will later be fed into\n",
        "# the model. \n",
        "my_feature_layer = tf.keras.layers.DenseFeatures(feature_columns)"
      ],
      "metadata": {
        "id": "JAm-7QOCw1Tw"
      },
      "execution_count": 40,
      "outputs": []
    },
    {
      "cell_type": "code",
      "source": [
        "def create_model(my_learning_rate, feature_layer):\n",
        "  \"\"\"Create and compile a simple linear regression model.\"\"\"\n",
        "  # Most simple tf.keras models are sequential.\n",
        "  model = tf.keras.models.Sequential()\n",
        "\n",
        "  # Add the layer containing the feature columns to the model.\n",
        "  model.add(feature_layer)\n",
        "\n",
        "  # Add one linear layer to the model to yield a simple linear regressor.\n",
        "  model.add(tf.keras.layers.Dense(units=1, input_shape=(1,)))\n",
        "\n",
        "  # Construct the layers into a model that TensorFlow can execute.\n",
        "  model.compile(optimizer=tf.keras.optimizers.RMSprop(lr=my_learning_rate),\n",
        "                loss=\"mean_squared_error\",\n",
        "                metrics=[tf.keras.metrics.MeanSquaredError()])\n",
        "\n",
        "  return model           \n",
        "\n",
        "\n",
        "def train_model(model, dataset, epochs, batch_size, label_name):\n",
        "  \"\"\"Feed a dataset into the model in order to train it.\"\"\"\n",
        "\n",
        "  # Split the dataset into features and label.\n",
        "  features = {name:np.array(value) for name, value in dataset.items()}\n",
        "  label = np.array(features.pop(label_name))\n",
        "  history = model.fit(x=features, y=label, batch_size=batch_size,\n",
        "                      epochs=epochs, shuffle=True)\n",
        "\n",
        "  # Get details that will be useful for plotting the loss curve.\n",
        "  epochs = history.epoch\n",
        "  hist = pd.DataFrame(history.history)\n",
        "  rmse = hist[\"mean_squared_error\"]\n",
        "\n",
        "  return epochs, rmse   \n",
        "\n",
        "print(\"Defined the create_model and train_model functions.\")"
      ],
      "metadata": {
        "colab": {
          "base_uri": "https://localhost:8080/"
        },
        "id": "nuBc3laC_WJQ",
        "outputId": "4566db47-4936-4a0c-9e09-52724cc6b096"
      },
      "execution_count": 69,
      "outputs": [
        {
          "output_type": "stream",
          "name": "stdout",
          "text": [
            "Defined the create_model and train_model functions.\n"
          ]
        }
      ]
    },
    {
      "cell_type": "code",
      "source": [
        "learning_rate = 0.01\n",
        "epochs = 15\n",
        "batch_size = 1000\n",
        "label_name = \"name\"\n",
        "\n",
        "# Establish the model's topography.\n",
        "my_model = create_model(learning_rate, my_feature_layer)\n",
        "\n",
        "# Train the model on the normalized training set.\n",
        "epochs, mse = train_model(my_model, df_train_norm, epochs, batch_size, label_name)\n",
        "plot_the_loss_curve(epochs, mse)\n",
        "\n",
        "test_features = {name:np.array(value) for name, value in df_test_norm.items()}\n",
        "test_label = np.array(test_features.pop(label_name)) # isolate the label\n",
        "print(\"\\n Evaluate the linear regression model against the test set:\")\n",
        "my_model.evaluate(x = test_features, y = test_label, batch_size=batch_size)"
      ],
      "metadata": {
        "colab": {
          "base_uri": "https://localhost:8080/",
          "height": 1000
        },
        "id": "ZCzHWL9z_afv",
        "outputId": "5a68df11-8776-4e40-ea85-9ffcd33e59af"
      },
      "execution_count": 70,
      "outputs": [
        {
          "output_type": "stream",
          "name": "stdout",
          "text": [
            "Epoch 1/15\n",
            "WARNING:tensorflow:Layers in a Sequential model should only have a single input tensor. Received: inputs={'diameter': <tf.Tensor 'IteratorGetNext:1' shape=(None,) dtype=float32>, 'weight': <tf.Tensor 'IteratorGetNext:4' shape=(None,) dtype=float32>, 'red': <tf.Tensor 'IteratorGetNext:3' shape=(None,) dtype=float32>, 'green': <tf.Tensor 'IteratorGetNext:2' shape=(None,) dtype=float32>, 'blue': <tf.Tensor 'IteratorGetNext:0' shape=(None,) dtype=float32>}. Consider rewriting this model with the Functional API.\n"
          ]
        },
        {
          "output_type": "stream",
          "name": "stderr",
          "text": [
            "/usr/local/lib/python3.7/dist-packages/keras/optimizer_v2/rmsprop.py:130: UserWarning: The `lr` argument is deprecated, use `learning_rate` instead.\n",
            "  super(RMSprop, self).__init__(name, **kwargs)\n"
          ]
        },
        {
          "output_type": "stream",
          "name": "stdout",
          "text": [
            "WARNING:tensorflow:Layers in a Sequential model should only have a single input tensor. Received: inputs={'diameter': <tf.Tensor 'IteratorGetNext:1' shape=(None,) dtype=float32>, 'weight': <tf.Tensor 'IteratorGetNext:4' shape=(None,) dtype=float32>, 'red': <tf.Tensor 'IteratorGetNext:3' shape=(None,) dtype=float32>, 'green': <tf.Tensor 'IteratorGetNext:2' shape=(None,) dtype=float32>, 'blue': <tf.Tensor 'IteratorGetNext:0' shape=(None,) dtype=float32>}. Consider rewriting this model with the Functional API.\n",
            "10/10 [==============================] - 1s 4ms/step - loss: 0.4598 - mean_squared_error: 0.4598\n",
            "Epoch 2/15\n",
            "10/10 [==============================] - 0s 5ms/step - loss: 0.3488 - mean_squared_error: 0.3488\n",
            "Epoch 3/15\n",
            "10/10 [==============================] - 0s 4ms/step - loss: 0.3239 - mean_squared_error: 0.3239\n",
            "Epoch 4/15\n",
            "10/10 [==============================] - 0s 4ms/step - loss: 0.3176 - mean_squared_error: 0.3176\n",
            "Epoch 5/15\n",
            "10/10 [==============================] - 0s 3ms/step - loss: 0.3170 - mean_squared_error: 0.3170\n",
            "Epoch 6/15\n",
            "10/10 [==============================] - 0s 5ms/step - loss: 0.3167 - mean_squared_error: 0.3167\n",
            "Epoch 7/15\n",
            "10/10 [==============================] - 0s 4ms/step - loss: 0.3168 - mean_squared_error: 0.3168\n",
            "Epoch 8/15\n",
            "10/10 [==============================] - 0s 4ms/step - loss: 0.3170 - mean_squared_error: 0.3170\n",
            "Epoch 9/15\n",
            "10/10 [==============================] - 0s 5ms/step - loss: 0.3167 - mean_squared_error: 0.3167\n",
            "Epoch 10/15\n",
            "10/10 [==============================] - 0s 5ms/step - loss: 0.3165 - mean_squared_error: 0.3165\n",
            "Epoch 11/15\n",
            "10/10 [==============================] - 0s 5ms/step - loss: 0.3160 - mean_squared_error: 0.3160\n",
            "Epoch 12/15\n",
            "10/10 [==============================] - 0s 4ms/step - loss: 0.3162 - mean_squared_error: 0.3162\n",
            "Epoch 13/15\n",
            "10/10 [==============================] - 0s 5ms/step - loss: 0.3160 - mean_squared_error: 0.3160\n",
            "Epoch 14/15\n",
            "10/10 [==============================] - 0s 4ms/step - loss: 0.3155 - mean_squared_error: 0.3155\n",
            "Epoch 15/15\n",
            "10/10 [==============================] - 0s 6ms/step - loss: 0.3150 - mean_squared_error: 0.3150\n"
          ]
        },
        {
          "output_type": "display_data",
          "data": {
            "text/plain": [
              "<Figure size 432x288 with 1 Axes>"
            ],
            "image/png": "[encoded data removed]"
          },
          "metadata": {
            "needs_background": "light"
          }
        },
        {
          "output_type": "stream",
          "name": "stdout",
          "text": [
            "\n",
            " Evaluate the linear regression model against the test set:\n",
            "WARNING:tensorflow:Layers in a Sequential model should only have a single input tensor. Received: inputs={'diameter': <tf.Tensor 'IteratorGetNext:1' shape=(None,) dtype=float32>, 'weight': <tf.Tensor 'IteratorGetNext:4' shape=(None,) dtype=float32>, 'red': <tf.Tensor 'IteratorGetNext:3' shape=(None,) dtype=float32>, 'green': <tf.Tensor 'IteratorGetNext:2' shape=(None,) dtype=float32>, 'blue': <tf.Tensor 'IteratorGetNext:0' shape=(None,) dtype=float32>}. Consider rewriting this model with the Functional API.\n",
            "1/1 [==============================] - 0s 416ms/step - loss: 0.3285 - mean_squared_error: 0.3285\n"
          ]
        },
        {
          "output_type": "execute_result",
          "data": {
            "text/plain": [
              "[0.32845810055732727, 0.32845810055732727]"
            ]
          },
          "metadata": {},
          "execution_count": 70
        }
      ]
    },
    {
      "cell_type": "code",
      "source": [
        "def create_model(my_learning_rate, my_feature_layer):\n",
        "  \"\"\"Create and compile a simple linear regression model.\"\"\"\n",
        "  # Most simple tf.keras models are sequential.\n",
        "  model = tf.keras.models.Sequential()\n",
        "\n",
        "  # Add the layer containing the feature columns to the model.\n",
        "  model.add(my_feature_layer)\n",
        "\n",
        "  # Describe the topography of the model by calling the tf.keras.layers.Dense\n",
        "  # method once for each layer. We've specified the following arguments:\n",
        "  #   * units specifies the number of nodes in this layer.\n",
        "  #   * activation specifies the activation function (Rectified Linear Unit).\n",
        "  #   * name is just a string that can be useful when debugging.\n",
        "\n",
        "  # Define the first hidden layer with 20 nodes.   \n",
        "  model.add(tf.keras.layers.Dense(units=20, \n",
        "                                  activation='relu', \n",
        "                                  name='Hidden1'))\n",
        "  \n",
        "  # Define the second hidden layer with 12 nodes. \n",
        "  model.add(tf.keras.layers.Dense(units=12, \n",
        "                                  activation='relu', \n",
        "                                  name='Hidden2'))\n",
        "  \n",
        "  # Define the output layer.\n",
        "  model.add(tf.keras.layers.Dense(units=1,  \n",
        "                                  name='Output'))                              \n",
        "  \n",
        "  model.compile(optimizer=tf.keras.optimizers.Adam(lr=my_learning_rate),\n",
        "                loss=\"mean_squared_error\",\n",
        "                metrics=[tf.keras.metrics.MeanSquaredError()])\n",
        "\n",
        "  return model"
      ],
      "metadata": {
        "id": "PUEyNU1cCOer"
      },
      "execution_count": 77,
      "outputs": []
    },
    {
      "cell_type": "code",
      "source": [
        "def train_model(model, dataset, epochs, label_name,\n",
        "                batch_size=None):\n",
        "  \"\"\"Train the model by feeding it data.\"\"\"\n",
        "\n",
        "  # Split the dataset into features and label.\n",
        "  features = {name:np.array(value) for name, value in dataset.items()}\n",
        "  label = np.array(features.pop(label_name))\n",
        "  history = model.fit(x=features, y=label, batch_size=batch_size,\n",
        "                      epochs=epochs, shuffle=True) \n",
        "\n",
        "  # The list of epochs is stored separately from the rest of history.\n",
        "  epochs = history.epoch\n",
        "  \n",
        "  # To track the progression of training, gather a snapshot\n",
        "  # of the model's mean squared error at each epoch. \n",
        "  hist = pd.DataFrame(history.history)\n",
        "  mse = hist[\"mean_squared_error\"]\n",
        "\n",
        "  return epochs, mse"
      ],
      "metadata": {
        "id": "zfZHLZlqCiJ4"
      },
      "execution_count": 78,
      "outputs": []
    },
    {
      "cell_type": "code",
      "source": [
        "# The following variables are the hyperparameters.\n",
        "learning_rate = 0.01\n",
        "epochs = 20\n",
        "batch_size = 1000\n",
        "\n",
        "# Specify the label\n",
        "label_name = \"name\"\n",
        "\n",
        "# Establish the model's topography.\n",
        "my_model = create_model(learning_rate, my_feature_layer)\n",
        "\n",
        "# Train the model on the normalized training set. We're passing the entire\n",
        "# normalized training set, but the model will only use the features\n",
        "# defined by the feature_layer.\n",
        "epochs, mse = train_model(my_model, df_train_norm, epochs, \n",
        "                          label_name, batch_size)\n",
        "plot_the_loss_curve(epochs, mse)\n",
        "\n",
        "# After building a model against the training set, test that model\n",
        "# against the test set.\n",
        "test_features = {name:np.array(value) for name, value in df_test_norm.items()}\n",
        "test_label = np.array(test_features.pop(label_name)) # isolate the label\n",
        "print(\"\\n Evaluate the new model against the test set:\")\n",
        "my_model.evaluate(x = test_features, y = test_label, batch_size=batch_size)"
      ],
      "metadata": {
        "colab": {
          "base_uri": "https://localhost:8080/",
          "height": 1000
        },
        "id": "fS6GIDljDXj6",
        "outputId": "d2f403b5-dd57-4638-aef9-6a2f2851cdf4"
      },
      "execution_count": 80,
      "outputs": [
        {
          "output_type": "stream",
          "name": "stdout",
          "text": [
            "Epoch 1/20\n",
            "WARNING:tensorflow:Layers in a Sequential model should only have a single input tensor. Received: inputs={'diameter': <tf.Tensor 'IteratorGetNext:1' shape=(None,) dtype=float32>, 'weight': <tf.Tensor 'IteratorGetNext:4' shape=(None,) dtype=float32>, 'red': <tf.Tensor 'IteratorGetNext:3' shape=(None,) dtype=float32>, 'green': <tf.Tensor 'IteratorGetNext:2' shape=(None,) dtype=float32>, 'blue': <tf.Tensor 'IteratorGetNext:0' shape=(None,) dtype=float32>}. Consider rewriting this model with the Functional API.\n"
          ]
        },
        {
          "output_type": "stream",
          "name": "stderr",
          "text": [
            "/usr/local/lib/python3.7/dist-packages/keras/optimizer_v2/adam.py:105: UserWarning: The `lr` argument is deprecated, use `learning_rate` instead.\n",
            "  super(Adam, self).__init__(name, **kwargs)\n"
          ]
        },
        {
          "output_type": "stream",
          "name": "stdout",
          "text": [
            "WARNING:tensorflow:Layers in a Sequential model should only have a single input tensor. Received: inputs={'diameter': <tf.Tensor 'IteratorGetNext:1' shape=(None,) dtype=float32>, 'weight': <tf.Tensor 'IteratorGetNext:4' shape=(None,) dtype=float32>, 'red': <tf.Tensor 'IteratorGetNext:3' shape=(None,) dtype=float32>, 'green': <tf.Tensor 'IteratorGetNext:2' shape=(None,) dtype=float32>, 'blue': <tf.Tensor 'IteratorGetNext:0' shape=(None,) dtype=float32>}. Consider rewriting this model with the Functional API.\n",
            "10/10 [==============================] - 1s 5ms/step - loss: 0.6394 - mean_squared_error: 0.6394\n",
            "Epoch 2/20\n",
            "10/10 [==============================] - 0s 13ms/step - loss: 0.3460 - mean_squared_error: 0.3460\n",
            "Epoch 3/20\n",
            "10/10 [==============================] - 0s 12ms/step - loss: 0.2829 - mean_squared_error: 0.2829\n",
            "Epoch 4/20\n",
            "10/10 [==============================] - 0s 7ms/step - loss: 0.2587 - mean_squared_error: 0.2587\n",
            "Epoch 5/20\n",
            "10/10 [==============================] - 0s 11ms/step - loss: 0.2428 - mean_squared_error: 0.2428\n",
            "Epoch 6/20\n",
            "10/10 [==============================] - 0s 11ms/step - loss: 0.2312 - mean_squared_error: 0.2312\n",
            "Epoch 7/20\n",
            "10/10 [==============================] - 0s 9ms/step - loss: 0.2218 - mean_squared_error: 0.2218\n",
            "Epoch 8/20\n",
            "10/10 [==============================] - 0s 9ms/step - loss: 0.2152 - mean_squared_error: 0.2152\n",
            "Epoch 9/20\n",
            "10/10 [==============================] - 0s 5ms/step - loss: 0.2124 - mean_squared_error: 0.2124\n",
            "Epoch 10/20\n",
            "10/10 [==============================] - 0s 4ms/step - loss: 0.2095 - mean_squared_error: 0.2095\n",
            "Epoch 11/20\n",
            "10/10 [==============================] - 0s 3ms/step - loss: 0.2078 - mean_squared_error: 0.2078\n",
            "Epoch 12/20\n",
            "10/10 [==============================] - 0s 3ms/step - loss: 0.2058 - mean_squared_error: 0.2058\n",
            "Epoch 13/20\n",
            "10/10 [==============================] - 0s 3ms/step - loss: 0.2053 - mean_squared_error: 0.2053\n",
            "Epoch 14/20\n",
            "10/10 [==============================] - 0s 3ms/step - loss: 0.2046 - mean_squared_error: 0.2046\n",
            "Epoch 15/20\n",
            "10/10 [==============================] - 0s 3ms/step - loss: 0.2025 - mean_squared_error: 0.2025\n",
            "Epoch 16/20\n",
            "10/10 [==============================] - 0s 4ms/step - loss: 0.2010 - mean_squared_error: 0.2010\n",
            "Epoch 17/20\n",
            "10/10 [==============================] - 0s 3ms/step - loss: 0.2004 - mean_squared_error: 0.2004\n",
            "Epoch 18/20\n",
            "10/10 [==============================] - 0s 3ms/step - loss: 0.1989 - mean_squared_error: 0.1989\n",
            "Epoch 19/20\n",
            "10/10 [==============================] - 0s 4ms/step - loss: 0.1981 - mean_squared_error: 0.1981\n",
            "Epoch 20/20\n",
            "10/10 [==============================] - 0s 4ms/step - loss: 0.1969 - mean_squared_error: 0.1969\n"
          ]
        },
        {
          "output_type": "display_data",
          "data": {
            "text/plain": [
              "<Figure size 432x288 with 1 Axes>"
            ],
            "image/png": "[encoded data removed]"
          },
          "metadata": {
            "needs_background": "light"
          }
        },
        {
          "output_type": "stream",
          "name": "stdout",
          "text": [
            "\n",
            " Evaluate the new model against the test set:\n",
            "WARNING:tensorflow:Layers in a Sequential model should only have a single input tensor. Received: inputs={'diameter': <tf.Tensor 'IteratorGetNext:1' shape=(None,) dtype=float32>, 'weight': <tf.Tensor 'IteratorGetNext:4' shape=(None,) dtype=float32>, 'red': <tf.Tensor 'IteratorGetNext:3' shape=(None,) dtype=float32>, 'green': <tf.Tensor 'IteratorGetNext:2' shape=(None,) dtype=float32>, 'blue': <tf.Tensor 'IteratorGetNext:0' shape=(None,) dtype=float32>}. Consider rewriting this model with the Functional API.\n",
            "1/1 [==============================] - 0s 157ms/step - loss: 0.2260 - mean_squared_error: 0.2260\n"
          ]
        },
        {
          "output_type": "execute_result",
          "data": {
            "text/plain": [
              "[0.2260098159313202, 0.2260098159313202]"
            ]
          },
          "metadata": {},
          "execution_count": 80
        }
      ]
    },
    {
      "cell_type": "code",
      "source": [
        ""
      ],
      "metadata": {
        "id": "E9l3Ow62DsrV"
      },
      "execution_count": null,
      "outputs": []
    }
  ]
}