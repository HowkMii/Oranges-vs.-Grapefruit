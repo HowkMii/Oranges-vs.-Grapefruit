{
  "nbformat": 4,
  "nbformat_minor": 0,
  "metadata": {
    "colab": {
      "name": "Oranges vs. Grapefruit",
      "provenance": [],
      "authorship_tag": "ABX9TyPwpRY6wyMHX0XcwUdyYd4T",
      "include_colab_link": true
    },
    "kernelspec": {
      "name": "python3",
      "display_name": "Python 3"
    },
    "language_info": {
      "name": "python"
    }
  },
  "cells": [
    {
      "cell_type": "markdown",
      "metadata": {
        "id": "view-in-github",
        "colab_type": "text"
      },
      "source": [
        "<a href=\"https://colab.research.google.com/github/HowkMii/Oranges-vs.-Grapefruit/blob/main/Oranges_vs_Grapefruit.ipynb\" target=\"_parent\"><img src=\"https://colab.research.google.com/assets/colab-badge.svg\" alt=\"Open In Colab\"/></a>"
      ]
    },
    {
      "cell_type": "code",
      "execution_count": null,
      "metadata": {
        "colab": {
          "base_uri": "https://localhost:8080/"
        },
        "id": "0i1bSEnuxjiw",
        "outputId": "45d9d05b-3ea6-46e2-e5fe-efdcd8c92275"
      },
      "outputs": [
        {
          "output_type": "stream",
          "name": "stdout",
          "text": [
            "Mounted at /content/drive\n"
          ]
        }
      ],
      "source": [
        "from google.colab import drive\n",
        "drive.mount('/content/drive')"
      ]
    },
    {
      "cell_type": "code",
      "source": [
        "cd /content/drive/MyDrive/datasets"
      ],
      "metadata": {
        "colab": {
          "base_uri": "https://localhost:8080/"
        },
        "id": "xdvSdDoqyB6F",
        "outputId": "51920447-3f80-491a-e34e-d60e52951543"
      },
      "execution_count": null,
      "outputs": [
        {
          "output_type": "stream",
          "name": "stdout",
          "text": [
            "/content/drive/MyDrive/datasets\n"
          ]
        }
      ]
    },
    {
      "cell_type": "code",
      "source": [
        "ls"
      ],
      "metadata": {
        "colab": {
          "base_uri": "https://localhost:8080/"
        },
        "id": "xjE43IS91Rn8",
        "outputId": "3c1c8011-6429-459e-ebf8-4591596cc2a3"
      },
      "execution_count": null,
      "outputs": [
        {
          "output_type": "stream",
          "name": "stdout",
          "text": [
            "citrus.csv\n"
          ]
        }
      ]
    },
    {
      "cell_type": "code",
      "source": [
        "# from __future__ import absolute_import, division, print_function, unicode_literals\n",
        "import numpy as np\n",
        "import pandas as pd\n",
        "import tensorflow as tf\n",
        "from tensorflow.keras import layers\n",
        "from matplotlib import pyplot as plt\n",
        "\n",
        "# The following lines adjust the granularity of reporting.\n",
        "pd.options.display.max_rows = 10\n",
        "pd.options.display.float_format = \"{:.1f}\".format\n",
        "# tf.keras.backend.set_floatx('float32')\n",
        "\n",
        "print(\"Ran the import statements.\")"
      ],
      "metadata": {
        "id": "nSuHji4KyRoo",
        "colab": {
          "base_uri": "https://localhost:8080/"
        },
        "outputId": "0a924924-a3b0-4e05-b3ee-ec6a9dac92ed"
      },
      "execution_count": null,
      "outputs": [
        {
          "output_type": "stream",
          "name": "stdout",
          "text": [
            "Ran the import statements.\n"
          ]
        }
      ]
    },
    {
      "cell_type": "code",
      "source": [
        "df = pd.read_csv(\"citrus.csv\")"
      ],
      "metadata": {
        "id": "Xgyq77k5zavB"
      },
      "execution_count": null,
      "outputs": []
    },
    {
      "cell_type": "code",
      "source": [
        "X = df.drop(['name'], axis = 1)\n",
        "y = df['name']\n",
        "y = y.replace(\"orange\", 0)\n",
        "y = y.replace(\"grapefruit\", 1)"
      ],
      "metadata": {
        "id": "KZwQDOzmoz07"
      },
      "execution_count": null,
      "outputs": []
    },
    {
      "cell_type": "code",
      "source": [
        "from sklearn.linear_model import LinearRegression"
      ],
      "metadata": {
        "id": "LOLpXdjXo0rp"
      },
      "execution_count": null,
      "outputs": []
    },
    {
      "cell_type": "code",
      "source": [
        "X_train, X_test, y_train, y_test = train_test_split(\n",
        "    X, y, test_size=0.05, random_state=0)"
      ],
      "metadata": {
        "id": "nf6zFvzxo9cT"
      },
      "execution_count": null,
      "outputs": []
    },
    {
      "cell_type": "code",
      "source": [
        "df_train = pd.concat([X_train,y_train],axis=1)\n",
        "df_test = pd.concat([X_test,y_test],axis=1)"
      ],
      "metadata": {
        "id": "dNsX-jwxpDAV"
      },
      "execution_count": null,
      "outputs": []
    },
    {
      "cell_type": "code",
      "source": [
        "df_train.head()"
      ],
      "metadata": {
        "colab": {
          "base_uri": "https://localhost:8080/",
          "height": 206
        },
        "id": "DYrMoeMhpZDA",
        "outputId": "3bd9d706-eedb-4fa5-a900-acd6893a14c3"
      },
      "execution_count": null,
      "outputs": [
        {
          "output_type": "execute_result",
          "data": {
            "text/plain": [
              "      diameter  weight  red  green  blue  name\n",
              "799        7.2   134.3  152     70    20     0\n",
              "1069       7.5   138.1  163     90     2     0\n",
              "8410      12.1   206.5  155     72    25     1\n",
              "9436      13.0   220.7  161     69    25     1\n",
              "5099       9.1   157.6  154     67     4     1"
            ],
            "text/html": [
              "\n",
              "  <div id=\"df-9ba71156-6fb8-4f4b-a61d-2daeb6092066\">\n",
              "    <div class=\"colab-df-container\">\n",
              "      <div>\n",
              "<style scoped>\n",
              "    .dataframe tbody tr th:only-of-type {\n",
              "        vertical-align: middle;\n",
              "    }\n",
              "\n",
              "    .dataframe tbody tr th {\n",
              "        vertical-align: top;\n",
              "    }\n",
              "\n",
              "    .dataframe thead th {\n",
              "        text-align: right;\n",
              "    }\n",
              "</style>\n",
              "<table border=\"1\" class=\"dataframe\">\n",
              "  <thead>\n",
              "    <tr style=\"text-align: right;\">\n",
              "      <th></th>\n",
              "      <th>diameter</th>\n",
              "      <th>weight</th>\n",
              "      <th>red</th>\n",
              "      <th>green</th>\n",
              "      <th>blue</th>\n",
              "      <th>name</th>\n",
              "    </tr>\n",
              "  </thead>\n",
              "  <tbody>\n",
              "    <tr>\n",
              "      <th>799</th>\n",
              "      <td>7.2</td>\n",
              "      <td>134.3</td>\n",
              "      <td>152</td>\n",
              "      <td>70</td>\n",
              "      <td>20</td>\n",
              "      <td>0</td>\n",
              "    </tr>\n",
              "    <tr>\n",
              "      <th>1069</th>\n",
              "      <td>7.5</td>\n",
              "      <td>138.1</td>\n",
              "      <td>163</td>\n",
              "      <td>90</td>\n",
              "      <td>2</td>\n",
              "      <td>0</td>\n",
              "    </tr>\n",
              "    <tr>\n",
              "      <th>8410</th>\n",
              "      <td>12.1</td>\n",
              "      <td>206.5</td>\n",
              "      <td>155</td>\n",
              "      <td>72</td>\n",
              "      <td>25</td>\n",
              "      <td>1</td>\n",
              "    </tr>\n",
              "    <tr>\n",
              "      <th>9436</th>\n",
              "      <td>13.0</td>\n",
              "      <td>220.7</td>\n",
              "      <td>161</td>\n",
              "      <td>69</td>\n",
              "      <td>25</td>\n",
              "      <td>1</td>\n",
              "    </tr>\n",
              "    <tr>\n",
              "      <th>5099</th>\n",
              "      <td>9.1</td>\n",
              "      <td>157.6</td>\n",
              "      <td>154</td>\n",
              "      <td>67</td>\n",
              "      <td>4</td>\n",
              "      <td>1</td>\n",
              "    </tr>\n",
              "  </tbody>\n",
              "</table>\n",
              "</div>\n",
              "      <button class=\"colab-df-convert\" onclick=\"convertToInteractive('df-9ba71156-6fb8-4f4b-a61d-2daeb6092066')\"\n",
              "              title=\"Convert this dataframe to an interactive table.\"\n",
              "              style=\"display:none;\">\n",
              "        \n",
              "  <svg xmlns=\"http://www.w3.org/2000/svg\" height=\"24px\"viewBox=\"0 0 24 24\"\n",
              "       width=\"24px\">\n",
              "    <path d=\"M0 0h24v24H0V0z\" fill=\"none\"/>\n",
              "    <path d=\"M18.56 5.44l.94 2.06.94-2.06 2.06-.94-2.06-.94-.94-2.06-.94 2.06-2.06.94zm-11 1L8.5 8.5l.94-2.06 2.06-.94-2.06-.94L8.5 2.5l-.94 2.06-2.06.94zm10 10l.94 2.06.94-2.06 2.06-.94-2.06-.94-.94-2.06-.94 2.06-2.06.94z\"/><path d=\"M17.41 7.96l-1.37-1.37c-.4-.4-.92-.59-1.43-.59-.52 0-1.04.2-1.43.59L10.3 9.45l-7.72 7.72c-.78.78-.78 2.05 0 2.83L4 21.41c.39.39.9.59 1.41.59.51 0 1.02-.2 1.41-.59l7.78-7.78 2.81-2.81c.8-.78.8-2.07 0-2.86zM5.41 20L4 18.59l7.72-7.72 1.47 1.35L5.41 20z\"/>\n",
              "  </svg>\n",
              "      </button>\n",
              "      \n",
              "  <style>\n",
              "    .colab-df-container {\n",
              "      display:flex;\n",
              "      flex-wrap:wrap;\n",
              "      gap: 12px;\n",
              "    }\n",
              "\n",
              "    .colab-df-convert {\n",
              "      background-color: #E8F0FE;\n",
              "      border: none;\n",
              "      border-radius: 50%;\n",
              "      cursor: pointer;\n",
              "      display: none;\n",
              "      fill: #1967D2;\n",
              "      height: 32px;\n",
              "      padding: 0 0 0 0;\n",
              "      width: 32px;\n",
              "    }\n",
              "\n",
              "    .colab-df-convert:hover {\n",
              "      background-color: #E2EBFA;\n",
              "      box-shadow: 0px 1px 2px rgba(60, 64, 67, 0.3), 0px 1px 3px 1px rgba(60, 64, 67, 0.15);\n",
              "      fill: #174EA6;\n",
              "    }\n",
              "\n",
              "    [theme=dark] .colab-df-convert {\n",
              "      background-color: #3B4455;\n",
              "      fill: #D2E3FC;\n",
              "    }\n",
              "\n",
              "    [theme=dark] .colab-df-convert:hover {\n",
              "      background-color: #434B5C;\n",
              "      box-shadow: 0px 1px 3px 1px rgba(0, 0, 0, 0.15);\n",
              "      filter: drop-shadow(0px 1px 2px rgba(0, 0, 0, 0.3));\n",
              "      fill: #FFFFFF;\n",
              "    }\n",
              "  </style>\n",
              "\n",
              "      <script>\n",
              "        const buttonEl =\n",
              "          document.querySelector('#df-9ba71156-6fb8-4f4b-a61d-2daeb6092066 button.colab-df-convert');\n",
              "        buttonEl.style.display =\n",
              "          google.colab.kernel.accessAllowed ? 'block' : 'none';\n",
              "\n",
              "        async function convertToInteractive(key) {\n",
              "          const element = document.querySelector('#df-9ba71156-6fb8-4f4b-a61d-2daeb6092066');\n",
              "          const dataTable =\n",
              "            await google.colab.kernel.invokeFunction('convertToInteractive',\n",
              "                                                     [key], {});\n",
              "          if (!dataTable) return;\n",
              "\n",
              "          const docLinkHtml = 'Like what you see? Visit the ' +\n",
              "            '<a target=\"_blank\" href=https://colab.research.google.com/notebooks/data_table.ipynb>data table notebook</a>'\n",
              "            + ' to learn more about interactive tables.';\n",
              "          element.innerHTML = '';\n",
              "          dataTable['output_type'] = 'display_data';\n",
              "          await google.colab.output.renderOutput(dataTable, element);\n",
              "          const docLink = document.createElement('div');\n",
              "          docLink.innerHTML = docLinkHtml;\n",
              "          element.appendChild(docLink);\n",
              "        }\n",
              "      </script>\n",
              "    </div>\n",
              "  </div>\n",
              "  "
            ]
          },
          "metadata": {},
          "execution_count": 46
        }
      ]
    },
    {
      "cell_type": "code",
      "source": [
        "# shuffle the training set\n",
        "df_train = df_train.reindex(np.random.permutation(df_train.index)) "
      ],
      "metadata": {
        "id": "CKn-flIOpbQD"
      },
      "execution_count": null,
      "outputs": []
    },
    {
      "cell_type": "code",
      "source": [
        "df_train_mean = df_train.mean()\n",
        "df_train_std = df_train.std()\n",
        "df_train_norm = (df_train - df_train_mean)/df_train_std\n",
        "\n",
        "# Calculate the Z-scores of each column in the test set.\n",
        "df_test_mean = df_test.mean()\n",
        "df_test_std = df_test.std()\n",
        "df_test_norm = (df_test - df_test_mean)/df_test_std\n",
        "\n",
        "print(\"Normalized the values.\")"
      ],
      "metadata": {
        "colab": {
          "base_uri": "https://localhost:8080/"
        },
        "id": "_9KsgSN5wJs3",
        "outputId": "c4b3f4d1-2527-470e-de9b-14dee9fad390"
      },
      "execution_count": null,
      "outputs": [
        {
          "output_type": "stream",
          "name": "stdout",
          "text": [
            "Normalized the values.\n"
          ]
        }
      ]
    },
    {
      "cell_type": "code",
      "source": [
        "# Create an empty list that will eventually hold all created feature columns.\n",
        "feature_columns = []\n",
        "\n",
        "# We scaled all the columns, including latitude and longitude, into their\n",
        "# Z scores. So, instead of picking a resolution in degrees, we're going\n",
        "# to use resolution_in_Zs.  A resolution_in_Zs of 1 corresponds to \n",
        "# a full standard deviation. \n",
        "resolution_in_Zs = 0.3  # 3/10 of a standard deviation.\n",
        "\n",
        "diameter = tf.feature_column.numeric_column(\"diameter\")\n",
        "feature_columns.append(diameter)\n",
        "\n",
        "# Represent population as a floating-point value.\n",
        "weight = tf.feature_column.numeric_column(\"weight\")\n",
        "feature_columns.append(weight)\n",
        "\n",
        "red = tf.feature_column.numeric_column(\"red\")\n",
        "feature_columns.append(red)\n",
        "green = tf.feature_column.numeric_column(\"green\")\n",
        "feature_columns.append(green)\n",
        "blue = tf.feature_column.numeric_column(\"blue\")\n",
        "feature_columns.append(blue)\n",
        "\n",
        "# Convert the list of feature columns into a layer that will later be fed into\n",
        "# the model. \n",
        "my_feature_layer = tf.keras.layers.DenseFeatures(feature_columns)"
      ],
      "metadata": {
        "id": "JAm-7QOCw1Tw"
      },
      "execution_count": null,
      "outputs": []
    },
    {
      "cell_type": "code",
      "source": [
        "def plot_the_loss_curve(epochs, mse):\n",
        "  \"\"\"Plot a curve of loss vs. epoch.\"\"\"\n",
        "\n",
        "  plt.figure()\n",
        "  plt.xlabel(\"Epoch\")\n",
        "  plt.ylabel(\"Mean Squared Error\")\n",
        "\n",
        "  plt.plot(epochs, mse, label=\"Loss\")\n",
        "  plt.legend()\n",
        "  plt.ylim([mse.min()*0.95, mse.max() * 1.03])\n",
        "  plt.show()  \n",
        "\n",
        "print(\"Defined the plot_the_loss_curve function.\")"
      ],
      "metadata": {
        "colab": {
          "base_uri": "https://localhost:8080/"
        },
        "id": "jvCIPS2XztNU",
        "outputId": "77aac3fc-b297-4bd1-a0cf-d3827058bb19"
      },
      "execution_count": null,
      "outputs": [
        {
          "output_type": "stream",
          "name": "stdout",
          "text": [
            "Defined the plot_the_loss_curve function.\n"
          ]
        }
      ]
    },
    {
      "cell_type": "code",
      "source": [
        "def create_model(my_learning_rate, feature_layer):\n",
        "  \"\"\"Create and compile a simple linear regression model.\"\"\"\n",
        "  # Most simple tf.keras models are sequential.\n",
        "  model = tf.keras.models.Sequential()\n",
        "\n",
        "  # Add the layer containing the feature columns to the model.\n",
        "  model.add(feature_layer)\n",
        "\n",
        "  # Add one linear layer to the model to yield a simple linear regressor.\n",
        "  model.add(tf.keras.layers.Dense(units=1, input_shape=(1,)))\n",
        "\n",
        "  # Construct the layers into a model that TensorFlow can execute.\n",
        "  model.compile(optimizer=tf.keras.optimizers.RMSprop(lr=my_learning_rate),\n",
        "                loss=\"mean_squared_error\",\n",
        "                metrics=[tf.keras.metrics.MeanSquaredError()])\n",
        "\n",
        "  return model           \n",
        "\n",
        "\n",
        "def train_model(model, dataset, epochs, batch_size, label_name):\n",
        "  \"\"\"Feed a dataset into the model in order to train it.\"\"\"\n",
        "\n",
        "  # Split the dataset into features and label.\n",
        "  features = {name:np.array(value) for name, value in dataset.items()}\n",
        "  label = np.array(features.pop(label_name))\n",
        "  history = model.fit(x=features, y=label, batch_size=batch_size,\n",
        "                      epochs=epochs, shuffle=True)\n",
        "\n",
        "  # Get details that will be useful for plotting the loss curve.\n",
        "  epochs = history.epoch\n",
        "  hist = pd.DataFrame(history.history)\n",
        "  rmse = hist[\"mean_squared_error\"]\n",
        "\n",
        "  return epochs, rmse   \n",
        "\n",
        "print(\"Defined the create_model and train_model functions.\")"
      ],
      "metadata": {
        "colab": {
          "base_uri": "https://localhost:8080/"
        },
        "id": "28B69_MEzxU1",
        "outputId": "e7a1aeec-2ceb-44cc-f1e7-17d647884865"
      },
      "execution_count": null,
      "outputs": [
        {
          "output_type": "stream",
          "name": "stdout",
          "text": [
            "Defined the create_model and train_model functions.\n"
          ]
        }
      ]
    },
    {
      "cell_type": "code",
      "source": [
        "learning_rate = 0.01\n",
        "epochs = 15\n",
        "batch_size = 1000\n",
        "label_name = \"name\"\n",
        "\n",
        "# Establish the model's topography.\n",
        "my_model = create_model(learning_rate, my_feature_layer)\n",
        "\n",
        "# Train the model on the normalized training set.\n",
        "epochs, mse = train_model(my_model, df_train_norm, epochs, batch_size, label_name)\n",
        "plot_the_loss_curve(epochs, mse)\n",
        "\n",
        "test_features = {name:np.array(value) for name, value in df_test_norm.items()}\n",
        "test_label = np.array(test_features.pop(label_name)) # isolate the label\n",
        "print(\"\\n Evaluate the linear regression model against the test set:\")\n",
        "my_model.evaluate(x = test_features, y = test_label, batch_size=batch_size)"
      ],
      "metadata": {
        "colab": {
          "base_uri": "https://localhost:8080/",
          "height": 1000
        },
        "id": "Jt8wnA3wz1bU",
        "outputId": "11a33b39-44f9-4b49-997a-1edf068a17b9"
      },
      "execution_count": null,
      "outputs": [
        {
          "output_type": "stream",
          "name": "stdout",
          "text": [
            "Epoch 1/15\n",
            "WARNING:tensorflow:Layers in a Sequential model should only have a single input tensor. Received: inputs={'diameter': <tf.Tensor 'IteratorGetNext:1' shape=(None,) dtype=float32>, 'weight': <tf.Tensor 'IteratorGetNext:4' shape=(None,) dtype=float32>, 'red': <tf.Tensor 'IteratorGetNext:3' shape=(None,) dtype=float32>, 'green': <tf.Tensor 'IteratorGetNext:2' shape=(None,) dtype=float32>, 'blue': <tf.Tensor 'IteratorGetNext:0' shape=(None,) dtype=float32>}. Consider rewriting this model with the Functional API.\n"
          ]
        },
        {
          "output_type": "stream",
          "name": "stderr",
          "text": [
            "/usr/local/lib/python3.7/dist-packages/keras/optimizer_v2/rmsprop.py:130: UserWarning: The `lr` argument is deprecated, use `learning_rate` instead.\n",
            "  super(RMSprop, self).__init__(name, **kwargs)\n"
          ]
        },
        {
          "output_type": "stream",
          "name": "stdout",
          "text": [
            "WARNING:tensorflow:Layers in a Sequential model should only have a single input tensor. Received: inputs={'diameter': <tf.Tensor 'IteratorGetNext:1' shape=(None,) dtype=float32>, 'weight': <tf.Tensor 'IteratorGetNext:4' shape=(None,) dtype=float32>, 'red': <tf.Tensor 'IteratorGetNext:3' shape=(None,) dtype=float32>, 'green': <tf.Tensor 'IteratorGetNext:2' shape=(None,) dtype=float32>, 'blue': <tf.Tensor 'IteratorGetNext:0' shape=(None,) dtype=float32>}. Consider rewriting this model with the Functional API.\n",
            "10/10 [==============================] - 1s 2ms/step - loss: 1.4974 - mean_squared_error: 1.4974\n",
            "Epoch 2/15\n",
            "10/10 [==============================] - 0s 2ms/step - loss: 1.0197 - mean_squared_error: 1.0197\n",
            "Epoch 3/15\n",
            "10/10 [==============================] - 0s 2ms/step - loss: 0.7533 - mean_squared_error: 0.7533\n",
            "Epoch 4/15\n",
            "10/10 [==============================] - 0s 2ms/step - loss: 0.5734 - mean_squared_error: 0.5734\n",
            "Epoch 5/15\n",
            "10/10 [==============================] - 0s 2ms/step - loss: 0.4537 - mean_squared_error: 0.4537\n",
            "Epoch 6/15\n",
            "10/10 [==============================] - 0s 2ms/step - loss: 0.3788 - mean_squared_error: 0.3788\n",
            "Epoch 7/15\n",
            "10/10 [==============================] - 0s 3ms/step - loss: 0.3377 - mean_squared_error: 0.3377\n",
            "Epoch 8/15\n",
            "10/10 [==============================] - 0s 3ms/step - loss: 0.3205 - mean_squared_error: 0.3205\n",
            "Epoch 9/15\n",
            "10/10 [==============================] - 0s 2ms/step - loss: 0.3161 - mean_squared_error: 0.3161\n",
            "Epoch 10/15\n",
            "10/10 [==============================] - 0s 2ms/step - loss: 0.3159 - mean_squared_error: 0.3159\n",
            "Epoch 11/15\n",
            "10/10 [==============================] - 0s 3ms/step - loss: 0.3158 - mean_squared_error: 0.3158\n",
            "Epoch 12/15\n",
            "10/10 [==============================] - 0s 3ms/step - loss: 0.3158 - mean_squared_error: 0.3158\n",
            "Epoch 13/15\n",
            "10/10 [==============================] - 0s 2ms/step - loss: 0.3157 - mean_squared_error: 0.3157\n",
            "Epoch 14/15\n",
            "10/10 [==============================] - 0s 2ms/step - loss: 0.3153 - mean_squared_error: 0.3153\n",
            "Epoch 15/15\n",
            "10/10 [==============================] - 0s 2ms/step - loss: 0.3156 - mean_squared_error: 0.3156\n"
          ]
        },
        {
          "output_type": "display_data",
          "data": {
            "text/plain": [
              "<Figure size 432x288 with 1 Axes>"
            ],
            "image/png": "[encoded data removed]"
          },
          "metadata": {
            "needs_background": "light"
          }
        },
        {
          "output_type": "stream",
          "name": "stdout",
          "text": [
            "\n",
            " Evaluate the linear regression model against the test set:\n",
            "WARNING:tensorflow:Layers in a Sequential model should only have a single input tensor. Received: inputs={'diameter': <tf.Tensor 'IteratorGetNext:1' shape=(None,) dtype=float32>, 'weight': <tf.Tensor 'IteratorGetNext:4' shape=(None,) dtype=float32>, 'red': <tf.Tensor 'IteratorGetNext:3' shape=(None,) dtype=float32>, 'green': <tf.Tensor 'IteratorGetNext:2' shape=(None,) dtype=float32>, 'blue': <tf.Tensor 'IteratorGetNext:0' shape=(None,) dtype=float32>}. Consider rewriting this model with the Functional API.\n",
            "1/1 [==============================] - 0s 178ms/step - loss: 0.3285 - mean_squared_error: 0.3285\n"
          ]
        },
        {
          "output_type": "execute_result",
          "data": {
            "text/plain": [
              "[0.3284658193588257, 0.3284658193588257]"
            ]
          },
          "metadata": {},
          "execution_count": 61
        }
      ]
    }
  ]
}